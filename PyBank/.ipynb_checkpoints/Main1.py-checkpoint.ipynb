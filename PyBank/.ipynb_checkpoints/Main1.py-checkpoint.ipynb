{
 "cells": [
  {
   "cell_type": "code",
   "execution_count": 48,
   "metadata": {},
   "outputs": [
    {
     "name": "stdout",
     "output_type": "stream",
     "text": [
      "0\n"
     ]
    }
   ],
   "source": [
    "f_idx = header.index(\"Date\")\n",
    "print(f_idx)"
   ]
  },
  {
   "cell_type": "code",
   "execution_count": 148,
   "metadata": {},
   "outputs": [
    {
     "name": "stdout",
     "output_type": "stream",
     "text": [
      "Financial Analysis\n",
      "---------------------------------------------------------\n",
      "Total Months: 86\n",
      "Total: $38382578\n",
      "Average Change: $-2315.1176470588234\n",
      "Greatest Increase in profits: Feb-2012 ($1926159)\n",
      "Greatest Decrease in Profits: Sep-2013 ($-2196167)\n"
     ]
    }
   ],
   "source": [
    "import os\n",
    "import csv\n",
    "\n",
    "budget_data = \"C:\\\\Users\\\\Jorge\\\\Desktop\\Python_Challenge\\\\PyBank\\\\Resources\\\\budget_data.csv\"\n",
    "\n",
    "\n",
    "t_months = 0\n",
    "t_revenue = 0\n",
    "\n",
    "\n",
    "with open(budget_data) as csvfile:\n",
    "    csvreader = csv.reader(csvfile, delimiter = \",\")\n",
    "    \n",
    "    rows = []\n",
    "    p = []\n",
    "    months = []\n",
    "    \n",
    "    for i, row in enumerate (csvreader):\n",
    "            if i == 0:\n",
    "                header = row\n",
    "            else:\n",
    "                rows.append(row)\n",
    "                p.append(int(row[1]))\n",
    "                months.append(row[0])\n",
    "                \n",
    "                t_months = t_months + 1\n",
    "                t_revenue = t_revenue + int(row[1])\n",
    "    \n",
    "    avg_change = []\n",
    "                \n",
    "    for x in range(1,len(p)):\n",
    "        avg_change.append((int(p[x]) - int(p[x-1])))\n",
    "        \n",
    "    r_avg = sum(avg_change)/len(avg_change)\n",
    "    \n",
    "    max_increase = max(avg_change)\n",
    "    max_decrease = min(avg_change)\n",
    "\n",
    "                \n",
    "                                \n",
    "print(\"Financial Analysis\")\n",
    "print(\"---------------------------------------------------------\")\n",
    "print (\"Total Months: \" + str(t_months))\n",
    "print (\"Total: $\" + str(t_revenue))\n",
    "print (\"Average Change: $\" + str(r_avg))\n",
    "print(\"Greatest Increase in profits: \" + str(months[avg_change.index(max(avg_change)) + 1]) + \" ($\" + str(max_increase) +\")\")\n",
    "print(\"Greatest Decrease in Profits: \"+ str(months[avg_change.index(min(avg_change)) + 1]) + \" ($\" + str(max_decrease) + \")\")\n",
    "\n",
    "file = open(\"output.txt\", \"w\")\n",
    "file.write(\"Financial Analysis\")\n",
    "file.write(\"\\n---------------------------------------------------------\")\n",
    "file.write(\"\\nTotal Months: \" + str(t_months))\n",
    "file.write(\"\\nTotal: $\" + str(t_revenue))\n",
    "file.write(\"\\nAverage Change: $\" + str(r_avg))\n",
    "file.write(\"\\nGreatest Increase in profits: \" + str(months[avg_change.index(max(avg_change)) + 1]) + \" ($\" + str(max_increase) +\")\")\n",
    "file.write(\"\\nGreatest Decrease in Profits: \"+ str(months[avg_change.index(min(avg_change)) + 1]) + \" ($\" + str(max_decrease) + \")\")\n",
    "file.close()"
   ]
  },
  {
   "cell_type": "code",
   "execution_count": 154,
   "metadata": {},
   "outputs": [
    {
     "name": "stdout",
     "output_type": "stream",
     "text": [
      "[116771, -662642, -391430, 379920, 212354, 510239, -428211, -821271, 693918, 416278, -974163, 860159, -1115009, 1033048, 95318, -308093, 99052, -521393, 605450, 231727, -65187, -702716, 177975, -1065544, 1926159, -917805, 898730, -334262, -246499, -64055, -1529236, 1497596, 304914, -635801, 398319, -183161, -37864, -253689, 403655, 94168, 306877, -83000, 210462, -2196167, 1465222, -956983, 1838447, -468003, -64602, 206242, -242155, -449079, 315198, 241099, 111540, 365942, -219310, -368665, 409837, 151210, -110244, -341938, -1212159, 683246, -70825, 335594, 417334, -272194, -236462, 657432, -211262, -128237, -1750387, 925441, 932089, -311434, 267252, -1876758, 1733696, 198551, -665765, 693229, -734926, 77242, 532869]\n"
     ]
    }
   ],
   "source": [
    "print(avg_change)"
   ]
  },
  {
   "cell_type": "code",
   "execution_count": null,
   "metadata": {},
   "outputs": [],
   "source": []
  }
 ],
 "metadata": {
  "kernelspec": {
   "display_name": "Python 3",
   "language": "python",
   "name": "python3"
  },
  "language_info": {
   "codemirror_mode": {
    "name": "ipython",
    "version": 3
   },
   "file_extension": ".py",
   "mimetype": "text/x-python",
   "name": "python",
   "nbconvert_exporter": "python",
   "pygments_lexer": "ipython3",
   "version": "3.6.7"
  }
 },
 "nbformat": 4,
 "nbformat_minor": 2
}
