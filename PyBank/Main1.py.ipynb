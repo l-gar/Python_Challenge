{
 "cells": [
  {
   "cell_type": "code",
   "execution_count": 48,
   "metadata": {},
   "outputs": [
    {
     "name": "stdout",
     "output_type": "stream",
     "text": [
      "0\n"
     ]
    }
   ],
   "source": [
    "f_idx = header.index(\"Date\")\n",
    "print(f_idx)"
   ]
  },
  {
   "cell_type": "code",
   "execution_count": 128,
   "metadata": {},
   "outputs": [
    {
     "ename": "SyntaxError",
     "evalue": "unexpected character after line continuation character (<ipython-input-128-21ed3c062115>, line 50)",
     "output_type": "error",
     "traceback": [
      "\u001b[1;36m  File \u001b[1;32m\"<ipython-input-128-21ed3c062115>\"\u001b[1;36m, line \u001b[1;32m50\u001b[0m\n\u001b[1;33m    file.write(\"Financial Analysis\",\\n)\u001b[0m\n\u001b[1;37m                                       ^\u001b[0m\n\u001b[1;31mSyntaxError\u001b[0m\u001b[1;31m:\u001b[0m unexpected character after line continuation character\n"
     ]
    }
   ],
   "source": [
    "import os\n",
    "import csv\n",
    "\n",
    "budget_data = \"C:\\\\Users\\\\Jorge\\\\Desktop\\Python_Challenge\\\\PyBank\\\\Resources\\\\budget_data.csv\"\n",
    "\n",
    "\n",
    "t_months = 0\n",
    "t_revenue = 0\n",
    "\n",
    "\n",
    "with open(budget_data) as csvfile:\n",
    "    csvreader = csv.reader(csvfile, delimiter = \",\")\n",
    "    \n",
    "    rows = []\n",
    "    p = []\n",
    "    months = []\n",
    "    \n",
    "    for i, row in enumerate (csvreader):\n",
    "            if i == 0:\n",
    "                header = row\n",
    "            else:\n",
    "                rows.append(row)\n",
    "                p.append(int(row[1]))\n",
    "                months.append(row[0])\n",
    "                \n",
    "                t_months = t_months + 1\n",
    "                t_revenue = t_revenue + int(row[1])\n",
    "    \n",
    "    avg_change = []\n",
    "                \n",
    "    for x in range(1,len(p)):\n",
    "        avg_change.append((int(p[x]) - int(p[x-1])))\n",
    "        \n",
    "    r_avg = sum(avg_change)/len(avg_change)\n",
    "    \n",
    "    max_increase = max(avg_change)\n",
    "    max_decrease = min(avg_change)\n",
    "\n",
    "                \n",
    "                                \n",
    "print(\"Financial Analysis\")\n",
    "print(\"---------------------------------------------------------\")\n",
    "print (\"Total Months: \" + str(t_months))\n",
    "print (\"Total: $\" + str(t_revenue))\n",
    "print (\"Average Change: $\" + str(r_avg))\n",
    "print(\"Greatest Increase in profits: \" + str(months[avg_change.index(max(avg_change)) + 1]) + \" ($\" + str(max_increase) +\")\")\n",
    "print(\"Greatest Decrease in Profits: \"+ str(months[avg_change.index(min(avg_change)) + 1]) + \" ($\" + str(max_decrease) + \")\")\n",
    "\n",
    "file = open(\"output.txt\", \"r+\")\n",
    "file.write(\"Financial Analysis\",\\n)\n",
    "file.write(\"---------------------------------------------------------\")\n",
    "file.write(\"Total Months: \" + str(t_months))\n",
    "file.write(\"Total: $\" + str(t_revenue))\n",
    "file.write(\"Average Change: $\" + str(r_avg))\n",
    "file.write(\"Greatest Increase in profits: \" + str(months[avg_change.index(max(avg_change)) + 1]) + \" ($\" + str(max_increase) +\")\")\n",
    "file.write(\"Greatest Decrease in Profits: \"+ str(months[avg_change.index(min(avg_change)) + 1]) + \" ($\" + str(max_decrease) + \")\")\n",
    "file.close"
   ]
  },
  {
   "cell_type": "code",
   "execution_count": 19,
   "metadata": {},
   "outputs": [],
   "source": []
  },
  {
   "cell_type": "code",
   "execution_count": null,
   "metadata": {},
   "outputs": [],
   "source": []
  }
 ],
 "metadata": {
  "kernelspec": {
   "display_name": "Python 3",
   "language": "python",
   "name": "python3"
  },
  "language_info": {
   "codemirror_mode": {
    "name": "ipython",
    "version": 3
   },
   "file_extension": ".py",
   "mimetype": "text/x-python",
   "name": "python",
   "nbconvert_exporter": "python",
   "pygments_lexer": "ipython3",
   "version": "3.6.7"
  }
 },
 "nbformat": 4,
 "nbformat_minor": 2
}
