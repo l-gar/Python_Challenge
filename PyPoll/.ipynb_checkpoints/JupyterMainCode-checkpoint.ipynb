{
 "cells": [
  {
   "cell_type": "code",
   "execution_count": 37,
   "metadata": {},
   "outputs": [
    {
     "name": "stdout",
     "output_type": "stream",
     "text": [
      "Election Results\n",
      "----------------------------------\n",
      "Total votes: 3521001\n",
      "----------------------------------\n",
      "Khan: 63.0% (2218231)\n",
      "Correy: 20.0% (704200)\n",
      "Li: 14.0% (492940)\n",
      "O'Tooley: 3.0% (105630)\n",
      "----------------------------------\n",
      "Winner: Khan\n",
      "----------------------------------\n"
     ]
    },
    {
     "data": {
      "text/plain": [
       "35"
      ]
     },
     "execution_count": 37,
     "metadata": {},
     "output_type": "execute_result"
    }
   ],
   "source": [
    "#Import os and csv\n",
    "import os\n",
    "import csv\n",
    "\n",
    "#connect to file using file path\n",
    "election_data = \"C:\\\\Users\\\\Jorge\\\\Desktop\\\\Python_Challenge\\\\PyPoll\\\\Resources\\\\election_data.csv\"\n",
    "\n",
    "#create lists that will hold data to use later\n",
    "candidatelist = []\n",
    "unique_candidate = []\n",
    "v_count = []\n",
    "v_percent = []\n",
    "\n",
    "#open the csv file into the program\n",
    "with open(election_data) as csvfile: \n",
    "    csvreader = csv.reader(csvfile, delimiter = \",\")\n",
    "    \n",
    "    #this will hold all data withouth header\n",
    "    rows = []\n",
    "    \n",
    "    for i, row in enumerate(csvreader):\n",
    "        if i == 0:\n",
    "            header = row\n",
    "        else:\n",
    "            rows.append(row)\n",
    "            candidatelist.append(row[2])\n",
    "            \n",
    "    total_V = len(rows)   \n",
    "    \n",
    "    for x in set(candidatelist):\n",
    "        unique_candidate.append(x)\n",
    "        \n",
    "        t_v_candidate = candidatelist.count(x)\n",
    "        \n",
    "        v_count.append(t_v_candidate)\n",
    "        \n",
    "        p_v_percent = (t_v_candidate/total_V)*100\n",
    "        v_percent.append(p_v_percent)\n",
    "    \n",
    "    winning_v_count = max(v_count)\n",
    "    winner = unique_candidate[v_count.index(winning_v_count)]\n",
    "    \n",
    "             \n",
    "            \n",
    "\n",
    "print(\"Election Results\")\n",
    "print(\"----------------------------------\")\n",
    "print(\"Total votes: \" + str(total_V))\n",
    "print(\"----------------------------------\")\n",
    "print(unique_candidate[1] + \": \" + str(round(v_percent[1],4)) + \"% (\" + str(v_count[1])+ \")\")\n",
    "print(unique_candidate[0] + \": \" + str(round(v_percent[0],4)) + \"% (\" + str(v_count[0])+ \")\")\n",
    "print(unique_candidate[2] + \": \" + str(round(v_percent[2],4)) + \"% (\" + str(v_count[2])+ \")\")\n",
    "print(unique_candidate[3] + \": \" + str(round(v_percent[3],4)) + \"% (\" + str(v_count[3])+ \")\")\n",
    "print(\"----------------------------------\")\n",
    "print(\"Winner: \" + winner)\n",
    "print(\"----------------------------------\")\n",
    "\n",
    "file = open(\"output.txt\", \"r+\")\n",
    "file.write(\"Election Results\")\n",
    "file.write(\"\\n----------------------------------\")\n",
    "file.write(\"\\nTotal votes: \" + str(total_V))\n",
    "file.write(\"\\n----------------------------------\")\n",
    "file.write(\"\\n\" + unique_candidate[1] + \": \" + str(round(v_percent[1],4)) + \"% (\" + str(v_count[1])+ \")\")\n",
    "file.write(\"\\n\" + unique_candidate[0] + \": \" + str(round(v_percent[0],4)) + \"% (\" + str(v_count[0])+ \")\")\n",
    "file.write(\"\\n\" + unique_candidate[2] + \": \" + str(round(v_percent[2],4)) + \"% (\" + str(v_count[2])+ \")\")\n",
    "file.write(\"\\n\" + unique_candidate[3] + \": \" + str(round(v_percent[3],4)) + \"% (\" + str(v_count[3])+ \")\")\n",
    "file.write(\"\\n----------------------------------\")\n",
    "file.write(\"\\nWinner: \" + winner)\n",
    "file.write(\"\\n----------------------------------\")"
   ]
  },
  {
   "cell_type": "code",
   "execution_count": null,
   "metadata": {},
   "outputs": [],
   "source": []
  }
 ],
 "metadata": {
  "kernelspec": {
   "display_name": "myenvironment",
   "language": "python",
   "name": "myenvironment"
  }
 },
 "nbformat": 4,
 "nbformat_minor": 2
}
